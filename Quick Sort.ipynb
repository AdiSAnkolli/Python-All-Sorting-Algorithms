{
 "cells": [
  {
   "cell_type": "code",
   "execution_count": 3,
   "metadata": {},
   "outputs": [],
   "source": [
    "def quick_sort(A):\n",
    "    quick_sort2(A, 0, len(A)-1)\n",
    "\n",
    "def quick_sort2(A, low, high):\n",
    "    if (low < high):\n",
    "        p = partition(A, low, high)\n",
    "        quick_sort2(A, low, p-1)\n",
    "        quick_sort2(A, p+1, high)\n",
    "        \n",
    "def get_pivot(A, low, high):\n",
    "    mid = (high + low)//2\n",
    "    pivot = high\n",
    "    if (A[low] < A[mid]):\n",
    "        if (A[mid] < A[high]):\n",
    "            pivot = mid\n",
    "    elif (A[low] < A[high]):\n",
    "        pivot = low\n",
    "    return pivot\n",
    "\n",
    "def partition(A, low, high):\n",
    "    pivotIndex = get_pivot(A, low, high)\n",
    "    pivotValue = A[pivotIndex]\n",
    "    A[pivotIndex], A[low] = A[low], A[pivotIndex]\n",
    "    border = low\n",
    "    \n",
    "    for i in range(low, high+1):\n",
    "        if A[i] < pivotValue:\n",
    "            border += 1\n",
    "            A[i], A[border] = A[border], A[i]\n",
    "    A[low], A[border] = A[border], A[low]\n",
    "    return (border)\n"
   ]
  },
  {
   "cell_type": "code",
   "execution_count": 4,
   "metadata": {},
   "outputs": [
    {
     "data": {
      "text/plain": [
       "array('i', [1, 2, 2, 7, 9, 21, 53])"
      ]
     },
     "execution_count": 4,
     "metadata": {},
     "output_type": "execute_result"
    }
   ],
   "source": [
    "import array as arr\n",
    "a = arr.array('i', [1, 7, 2, 53, 21, 9, 2])\n",
    "quick_sort(a)\n",
    "a"
   ]
  },
  {
   "cell_type": "code",
   "execution_count": null,
   "metadata": {},
   "outputs": [],
   "source": []
  }
 ],
 "metadata": {
  "kernelspec": {
   "display_name": "Python 3",
   "language": "python",
   "name": "python3"
  },
  "language_info": {
   "codemirror_mode": {
    "name": "ipython",
    "version": 3
   },
   "file_extension": ".py",
   "mimetype": "text/x-python",
   "name": "python",
   "nbconvert_exporter": "python",
   "pygments_lexer": "ipython3",
   "version": "3.6.10"
  }
 },
 "nbformat": 4,
 "nbformat_minor": 4
}
